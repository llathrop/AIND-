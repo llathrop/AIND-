{
 "cells": [
  {
   "cell_type": "markdown",
   "metadata": {},
   "source": [
    "### AIND - Planning - Research Review"
   ]
  },
  {
   "cell_type": "markdown",
   "metadata": {},
   "source": [
    "When reviewing the history of Artificial Intelligence planning problems, we find that it was influenced by various developments. We will review three of these and their impact on the industry"
   ]
  },
  {
   "cell_type": "markdown",
   "metadata": {},
   "source": [
    "One of the first important modern developments was STRIPS(STanford Research Institute Problem Solver)(Fikes and Nilsson, 1971) **[1]**, a planning system that helped to define the language of planning and later led to the development of first Action Description Language (ADL)(Pednault, 1986) **[2]**, and later to Problem Domain Description Language(PDDL) (Ghallab et al., 1998) **[3]**."
   ]
  },
  {
   "cell_type": "markdown",
   "metadata": {},
   "source": [
    "\n",
    "\n",
    "STRIPS was first developed in conjunction with the \"Shakey\" robot project as the planning component, and made a key contribution of an operator representation, or state, and the algorithm of tracking the effects on that state by actions. In STRIPS, an instance is made up of the initial state, a goal , expressed as a state, and a set of actions. An action consists of an set of preconditions, an ADD list, and a DEL list. Each state transition followed a rule of:<code>\n",
    "if ( preconditions )\n",
    "    then (retract ( deletions )) (assert ( additions ))\n",
    "    </code>\n",
    "    \n",
    "In STRIPS, all assignments/actions happens instantly. "
   ]
  },
  {
   "cell_type": "markdown",
   "metadata": {},
   "source": [
    "Action Description Language(ADL) is a generalization of STRIPS, wherin Pednault realized that allowing an operator to be conditional would allow for greater flexibility in expressing problems. This brought in the concept of the \"open world\"(Stuart  and Norvig, 2010) **[4]**, in which states contain both positive and negative fluents, and if fluent is not explicitly listed, it's value is unknown. In additon, ADL allows negative literals, for ex: Wet^Cloudy may also be expressed as ¬Dry^¬Clear.\n",
    "\n",
    "These modification allowed ADL to simplify description of real world problems, altough any ADL problem may be translated into a STRIPS instance, although with with performance issues."
   ]
  },
  {
   "cell_type": "markdown",
   "metadata": {},
   "source": [
    "Problem Domain Description Language(PDDL) was developed by McDermott et al in 1998 as an attempt to standardize planning languages for the International Planning Competition. The lanuguage is inspired by STRIPS and ADL, among others, with the idea that a common language was needed to allow sharing and evaluation of progress int the AI planning field. It has lived on via several revisions to be the common language of planning, adding ideas such numeric fluents, plan metrics, preference, and more."
   ]
  },
  {
   "cell_type": "markdown",
   "metadata": {},
   "source": [
    "* [1] Richard E. Fikes, Nils J. Nilsson (Winter 1971). \"STRIPS: A New Approach to the Application of Theorem Proving to Problem Solving\" (PDF). Artificial Intelligence. 2 (3–4): 189–208. doi:10.1016/0004-3702(71)90010-5.\n",
    "* [2]  Pednault. Formulating multi-agent dynamic-world problems in the classical planning framework. In Michael Georgeff and Amy Lansky, editors, Reasoning about actions and plans pages 47-82. Morgan Kaufmann, San Mateo, CA, 1987.\n",
    "* [3]  McDermott, Drew; Ghallab, Malik; Howe, Adele; Knoblock, Craig; Ram, Ashwin; Veloso, Manuela; Weld, Daniel; Wilkins, David (1998). \"PDDL---The Planning Domain Definition Language\" (PDF). Technical Report CVC TR98003/DCS TR1165. New Haven, CT: Yale Center for Computational Vision and Control. CiteSeerX 10.1.1.51.9941\n",
    "* [4] Russell, Stuart J.; Norvig, Peter (2010). Artificial Intelligence: A Modern Approach (3rd ed.). Upper Saddle River: Prentice Hall. ISBN 9780136042594."
   ]
  },
  {
   "cell_type": "markdown",
   "metadata": {},
   "source": [
    "### EOF"
   ]
  }
 ],
 "metadata": {
  "kernelspec": {
   "display_name": "Python 3",
   "language": "python",
   "name": "python3"
  },
  "language_info": {
   "codemirror_mode": {
    "name": "ipython",
    "version": 3
   },
   "file_extension": ".py",
   "mimetype": "text/x-python",
   "name": "python",
   "nbconvert_exporter": "python",
   "pygments_lexer": "ipython3",
   "version": "3.6.1"
  }
 },
 "nbformat": 4,
 "nbformat_minor": 2
}
